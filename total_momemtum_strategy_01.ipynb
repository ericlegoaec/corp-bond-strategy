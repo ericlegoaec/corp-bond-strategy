{
 "cells": [
  {
   "cell_type": "markdown",
   "metadata": {},
   "source": [
    "# Total momemtum strategy 2013"
   ]
  },
  {
   "cell_type": "code",
   "execution_count": 1,
   "metadata": {},
   "outputs": [],
   "source": [
    "import pandas as pd\n",
    "import numpy as np\n",
    "from datetime import datetime\n",
    "import math"
   ]
  },
  {
   "cell_type": "markdown",
   "metadata": {},
   "source": [
    "## Ranking decile portfolios fucntion"
   ]
  },
  {
   "cell_type": "code",
   "execution_count": 2,
   "metadata": {},
   "outputs": [],
   "source": [
    "def rank_port_decile_t(equity_data , start_date, end_date):\n",
    "    \n",
    "    start = datetime.strptime(start_date, '%Y-%m-%d')\n",
    "    end = datetime.strptime(end_date, '%Y-%m-%d')\n",
    "    \n",
    "    equity_data = equity_data[(equity_data.date >= start) & (equity_data.date <= end)]\n",
    "    equity_data = equity_data.drop_duplicates()\n",
    "    try:\n",
    "        equity_data = equity_data[equity_data.RETX != 'C']\n",
    "    except:\n",
    "        print('There is no C')\n",
    "    equity_data.RETX = equity_data.RETX.astype('float64')\n",
    "    equity_data.RET = equity_data.RET.astype('float64')\n",
    "    \n",
    "    equity_group_mean_ret = equity_data.groupby('TICKER').agg({'RETX': 'mean'})\n",
    "    equity_group_mean_ret_sort = equity_group_mean_ret.sort_values(by=['RETX'])\n",
    "    equity_group_mean_ret_sort['GROUP'] = 0\n",
    "    \n",
    "    frac = math.floor(equity_group_mean_ret_sort.shape[0]/10)\n",
    "    num_line = equity_group_mean_ret_sort.shape[0]\n",
    "    left = num_line%frac\n",
    "    \n",
    "    group_num = [frac+1]*(left)+[frac]*(10-left)\n",
    "    \n",
    "    group = ['P10', 'P09', 'P08', 'P07', 'P06', 'P05', 'P04', 'P03', 'P02', 'P01']\n",
    "    \n",
    "    i, j = 0, group_num[0]\n",
    "    while j <= num_line:\n",
    "        \n",
    "        equity_group_mean_ret_sort.ix[(j-group_num[i]):j , 'GROUP'] = group[i]\n",
    "        i +=1\n",
    "        if(i == 10):\n",
    "            break\n",
    "        j = j + group_num[i]\n",
    "\n",
    "    return(equity_group_mean_ret_sort)\n"
   ]
  },
  {
   "cell_type": "markdown",
   "metadata": {},
   "source": [
    "## Import equity data step"
   ]
  },
  {
   "cell_type": "code",
   "execution_count": 3,
   "metadata": {},
   "outputs": [],
   "source": [
    "datetime.strptime('2012-06-01', '%Y-%m-%d')\n",
    "\n",
    "equity_data = pd.read_csv('CRSP 2013 - BBB.csv')\n",
    "equity_data.date = pd.to_datetime(equity_data.date, format = '%Y%m%d')"
   ]
  },
  {
   "cell_type": "markdown",
   "metadata": {},
   "source": [
    "Input equity data, starting date and ending date"
   ]
  },
  {
   "cell_type": "code",
   "execution_count": 4,
   "metadata": {},
   "outputs": [],
   "source": [
    "rank_port = rank_port_decile_t(equity_data, '2012-06-01', '2012-12-31')"
   ]
  },
  {
   "cell_type": "code",
   "execution_count": 5,
   "metadata": {},
   "outputs": [
    {
     "data": {
      "text/html": [
       "<div>\n",
       "<table border=\"1\" class=\"dataframe\">\n",
       "  <thead>\n",
       "    <tr style=\"text-align: right;\">\n",
       "      <th></th>\n",
       "      <th>TICKER</th>\n",
       "      <th>RETX</th>\n",
       "    </tr>\n",
       "    <tr>\n",
       "      <th>GROUP</th>\n",
       "      <th></th>\n",
       "      <th></th>\n",
       "    </tr>\n",
       "  </thead>\n",
       "  <tbody>\n",
       "    <tr>\n",
       "      <th>P01</th>\n",
       "      <td>49.0</td>\n",
       "      <td>0.062519</td>\n",
       "    </tr>\n",
       "    <tr>\n",
       "      <th>P02</th>\n",
       "      <td>49.0</td>\n",
       "      <td>0.036055</td>\n",
       "    </tr>\n",
       "    <tr>\n",
       "      <th>P03</th>\n",
       "      <td>49.0</td>\n",
       "      <td>0.027007</td>\n",
       "    </tr>\n",
       "    <tr>\n",
       "      <th>P04</th>\n",
       "      <td>49.0</td>\n",
       "      <td>0.021286</td>\n",
       "    </tr>\n",
       "    <tr>\n",
       "      <th>P05</th>\n",
       "      <td>49.0</td>\n",
       "      <td>0.016590</td>\n",
       "    </tr>\n",
       "    <tr>\n",
       "      <th>P06</th>\n",
       "      <td>49.0</td>\n",
       "      <td>0.010980</td>\n",
       "    </tr>\n",
       "    <tr>\n",
       "      <th>P07</th>\n",
       "      <td>50.0</td>\n",
       "      <td>0.006509</td>\n",
       "    </tr>\n",
       "    <tr>\n",
       "      <th>P08</th>\n",
       "      <td>50.0</td>\n",
       "      <td>0.002477</td>\n",
       "    </tr>\n",
       "    <tr>\n",
       "      <th>P09</th>\n",
       "      <td>50.0</td>\n",
       "      <td>-0.003332</td>\n",
       "    </tr>\n",
       "    <tr>\n",
       "      <th>P10</th>\n",
       "      <td>50.0</td>\n",
       "      <td>-0.017843</td>\n",
       "    </tr>\n",
       "    <tr>\n",
       "      <th>Total</th>\n",
       "      <td>494.0</td>\n",
       "      <td>0.162249</td>\n",
       "    </tr>\n",
       "  </tbody>\n",
       "</table>\n",
       "</div>"
      ],
      "text/plain": [
       "       TICKER      RETX\n",
       "GROUP                  \n",
       "P01      49.0  0.062519\n",
       "P02      49.0  0.036055\n",
       "P03      49.0  0.027007\n",
       "P04      49.0  0.021286\n",
       "P05      49.0  0.016590\n",
       "P06      49.0  0.010980\n",
       "P07      50.0  0.006509\n",
       "P08      50.0  0.002477\n",
       "P09      50.0 -0.003332\n",
       "P10      50.0 -0.017843\n",
       "Total   494.0  0.162249"
      ]
     },
     "execution_count": 5,
     "metadata": {},
     "output_type": "execute_result"
    }
   ],
   "source": [
    "rank_port_sort = rank_port\n",
    "rank_port_sort['TICKER'] = rank_port_sort.index\n",
    "rank_port_sort = rank_port.sort_values(by=['GROUP','TICKER'])\n",
    "rank_port_sort_sum = rank_port_sort.groupby('GROUP').agg({'TICKER':'count', 'RETX':'mean'})\n",
    "rank_port_sort_sum.loc['Total'] = rank_port_sort_sum.sum()\n",
    "rank_port_sort_sum"
   ]
  },
  {
   "cell_type": "code",
   "execution_count": 6,
   "metadata": {},
   "outputs": [],
   "source": [
    "import plotly.plotly as py\n",
    "import plotly.graph_objs as go\n",
    "import plotly\n",
    "plotly.tools.set_credentials_file(username='NackNapat', api_key='lLgdRVb7O9aYSzwgUx4K')"
   ]
  },
  {
   "cell_type": "markdown",
   "metadata": {},
   "source": [
    "## Generating ranking statistics table"
   ]
  },
  {
   "cell_type": "code",
   "execution_count": 7,
   "metadata": {},
   "outputs": [],
   "source": [
    "def rank_total_table(rank_port):\n",
    "    \n",
    "    rank_port_sort = rank_port\n",
    "    rank_port_sort['TICKER'] = rank_port_sort.index\n",
    "    rank_port_sort = rank_port.sort_values(by=['GROUP','TICKER'])\n",
    "    rank_port_sort_sum = rank_port_sort.groupby('GROUP').agg({'TICKER':'count', 'RETX':'mean'})\n",
    "    rank_port_sort_sum.loc['Total'] = rank_port_sort_sum.sum()\n",
    "    \n",
    "    headerColor = '#5ece1c'\n",
    "    rowEvenColor = '#c0ff9b'\n",
    "    rowOddColor = 'white'\n",
    "    \n",
    "    trace0 = go.Table(\n",
    "      header = dict(\n",
    "        values = [['<b>Portfolios</b>'], ['<b>Equity_num</b>'], ['<b>Avg_return</b>']],\n",
    "        line = dict(color = '#2d6b09'),\n",
    "        fill = dict(color = headerColor),\n",
    "        align = ['left','center'],\n",
    "        font = dict(color = 'white', size = 12)\n",
    "      ),\n",
    "      cells = dict(\n",
    "        values = [\n",
    "          [list(rank_port_sort_sum.index.values)],\n",
    "          [[i[0] for i in rank_port_sort_sum[[0]].values]],\n",
    "          [[i[0] for i in rank_port_sort_sum[[1]].values]]],\n",
    "        line = dict(color = '#2d6b09'),\n",
    "        fill = dict(color = [rowOddColor,rowEvenColor,rowOddColor, rowEvenColor,rowOddColor]),\n",
    "        align = ['left', 'center'],\n",
    "        font = dict(color = '#2d6b09', size = 11)\n",
    "        ))\n",
    "    \n",
    "    data = [trace0]\n",
    "    \n",
    "    return(py.iplot(data, filename = \"Ranking_total_table\"))"
   ]
  },
  {
   "cell_type": "code",
   "execution_count": 8,
   "metadata": {},
   "outputs": [
    {
     "data": {
      "text/html": [
       "<iframe id=\"igraph\" scrolling=\"no\" style=\"border:none;\" seamless=\"seamless\" src=\"https://plot.ly/~NackNapat/23.embed\" height=\"525px\" width=\"100%\"></iframe>"
      ],
      "text/plain": [
       "<plotly.tools.PlotlyDisplay object>"
      ]
     },
     "execution_count": 8,
     "metadata": {},
     "output_type": "execute_result"
    }
   ],
   "source": [
    "rank_total_table(rank_port)"
   ]
  },
  {
   "cell_type": "markdown",
   "metadata": {},
   "source": [
    "## Running total momentum strategy function"
   ]
  },
  {
   "cell_type": "code",
   "execution_count": 9,
   "metadata": {},
   "outputs": [],
   "source": [
    "import matplotlib.pyplot as plt"
   ]
  },
  {
   "cell_type": "code",
   "execution_count": 10,
   "metadata": {},
   "outputs": [],
   "source": [
    "def tmomentum_strategy(bond_data, rank_port, start_month, end_month, TMT = 0):\n",
    "\n",
    "    bond_data = pd.merge(bond_data, rank_port[['GROUP']], how = 'left', left_on = 'company_symbol', right_index=True)\n",
    "    \n",
    "    bond_data = bond_data[bond_data.TMT >= TMT]\n",
    "    \n",
    "    #equity_group_mean_ret_sort[equity_group_mean_ret_sort.index == \"TRP\"]\n",
    "    \n",
    "    bond_average_month = bond_data.groupby(['month', 'company_symbol', 'GROUP']).agg({'PRICE_EOM':'mean','YIELD':'mean', 'RATING_NUM':'mean'})\n",
    "    bond_month = pd.DataFrame(columns = ['month', 'ticker', 'port_group', 'price', 'yield'])\n",
    "    bond_month['month'] = [i[0] for i in bond_average_month.index]\n",
    "    bond_month['ticker'] = [i[1] for i in bond_average_month.index]\n",
    "    bond_month['port_group'] = [i[2] for i in bond_average_month.index]\n",
    "    bond_month['price'] = bond_average_month['PRICE_EOM'].values\n",
    "    bond_month['yield'] = bond_average_month['YIELD'].values\n",
    "    bond_month['avg_rating'] = bond_average_month['RATING_NUM'].values\n",
    "    \n",
    "    bond_hold = bond_month[(bond_month.month >= start_month) & (bond_month.month <= end_month)]\n",
    "    \n",
    "    bond_sum_price = bond_hold.groupby('port_group').agg({'price':'sum'})\n",
    "    bond_hold_value = pd.merge(bond_hold, bond_sum_price, how = 'left', left_on = 'port_group', right_index=True)\n",
    "    bond_hold_value.columns = ['month', 'ticker', 'port_group', 'price', 'yield', 'avg_rating','port_total_weight']\n",
    "    bond_hold_value['port_weight'] = bond_hold_value['price'].divide(bond_hold_value['port_total_weight'])\n",
    "    bond_hold_value['port_weighted_bond'] = bond_hold_value['yield'].mul(bond_hold_value['port_weight'])\n",
    "    \n",
    "    bond_hold_valueW = bond_hold_value.groupby('port_group').agg({'port_weighted_bond':'sum'})\n",
    "    bond_hold_valueW.loc['P01-P10'] = bond_hold_valueW.ix[0,0] - bond_hold_valueW.ix[9,0]\n",
    "    bond_hold_valueW.loc['P01-P05'] = bond_hold_valueW.ix[0,0] - bond_hold_valueW.ix[4,0]\n",
    "    \n",
    "    bond_hold_equalW = bond_hold.groupby('port_group').agg({'yield':'mean', 'price':'mean', 'avg_rating':'mean'})\n",
    "    bond_hold_equalW.loc['P01-P10'] = bond_hold_equalW.ix[0,0] - bond_hold_equalW.ix[9,0]\n",
    "    bond_hold_equalW.loc['P01-P05'] = bond_hold_equalW.ix[0,0] - bond_hold_equalW.ix[4,0]\n",
    "    \n",
    "    result = bond_hold_valueW.merge(bond_hold_equalW, left_index=True, right_index=True)\n",
    "    text1 = 'value_wight'+'('+str(start_month)+','+str(end_month)+')'\n",
    "    text2 = 'equal_weight'+'('+str(start_month)+','+str(end_month)+')'\n",
    "    result.columns = [text1, text2, 'avg_price', 'avg_rating']\n",
    "\n",
    "    return(result)"
   ]
  },
  {
   "cell_type": "markdown",
   "metadata": {},
   "source": [
    "## Import bond data step"
   ]
  },
  {
   "cell_type": "code",
   "execution_count": 11,
   "metadata": {},
   "outputs": [],
   "source": [
    "bond_data = pd.read_csv('WRDS bond return 2013 - BBB.csv')\n",
    "bond_data.DATE = pd.to_datetime(bond_data.DATE, format = '%d-%b-%y')\n",
    "\n",
    "bond_data['month'] = [i.month for i in bond_data.DATE]\n",
    "bond_data.YIELD = bond_data.YIELD.str.replace('%', '').astype('float').divide(100.0)"
   ]
  },
  {
   "cell_type": "markdown",
   "metadata": {},
   "source": [
    "Input bond data, ranking data, strating month of holding, ending month of holding and number per year of time-to-maturity that we don't want. "
   ]
  },
  {
   "cell_type": "code",
   "execution_count": 12,
   "metadata": {},
   "outputs": [],
   "source": [
    "perf = tmomentum_strategy(bond_data, rank_port, 2, 3, TMT=2)"
   ]
  },
  {
   "cell_type": "code",
   "execution_count": 13,
   "metadata": {},
   "outputs": [
    {
     "data": {
      "text/html": [
       "<div>\n",
       "<table border=\"1\" class=\"dataframe\">\n",
       "  <thead>\n",
       "    <tr style=\"text-align: right;\">\n",
       "      <th></th>\n",
       "      <th>value_wight(2,3)</th>\n",
       "      <th>equal_weight(2,3)</th>\n",
       "      <th>avg_price</th>\n",
       "      <th>avg_rating</th>\n",
       "    </tr>\n",
       "    <tr>\n",
       "      <th>port_group</th>\n",
       "      <th></th>\n",
       "      <th></th>\n",
       "      <th></th>\n",
       "      <th></th>\n",
       "    </tr>\n",
       "  </thead>\n",
       "  <tbody>\n",
       "    <tr>\n",
       "      <th>P01</th>\n",
       "      <td>0.043214</td>\n",
       "      <td>0.051581</td>\n",
       "      <td>112.651565</td>\n",
       "      <td>9.168934</td>\n",
       "    </tr>\n",
       "    <tr>\n",
       "      <th>P02</th>\n",
       "      <td>0.034760</td>\n",
       "      <td>0.035447</td>\n",
       "      <td>111.997405</td>\n",
       "      <td>8.925333</td>\n",
       "    </tr>\n",
       "    <tr>\n",
       "      <th>P03</th>\n",
       "      <td>0.033914</td>\n",
       "      <td>0.034690</td>\n",
       "      <td>112.871597</td>\n",
       "      <td>9.001298</td>\n",
       "    </tr>\n",
       "    <tr>\n",
       "      <th>P04</th>\n",
       "      <td>0.031559</td>\n",
       "      <td>0.033271</td>\n",
       "      <td>110.749504</td>\n",
       "      <td>9.013953</td>\n",
       "    </tr>\n",
       "    <tr>\n",
       "      <th>P05</th>\n",
       "      <td>0.032410</td>\n",
       "      <td>0.034358</td>\n",
       "      <td>110.714991</td>\n",
       "      <td>9.164012</td>\n",
       "    </tr>\n",
       "    <tr>\n",
       "      <th>P06</th>\n",
       "      <td>0.029711</td>\n",
       "      <td>0.031268</td>\n",
       "      <td>112.054731</td>\n",
       "      <td>8.805611</td>\n",
       "    </tr>\n",
       "    <tr>\n",
       "      <th>P07</th>\n",
       "      <td>0.031626</td>\n",
       "      <td>0.032561</td>\n",
       "      <td>111.439620</td>\n",
       "      <td>9.044353</td>\n",
       "    </tr>\n",
       "    <tr>\n",
       "      <th>P08</th>\n",
       "      <td>0.031465</td>\n",
       "      <td>0.033990</td>\n",
       "      <td>112.139001</td>\n",
       "      <td>9.013176</td>\n",
       "    </tr>\n",
       "    <tr>\n",
       "      <th>P09</th>\n",
       "      <td>0.033393</td>\n",
       "      <td>0.033745</td>\n",
       "      <td>113.889604</td>\n",
       "      <td>8.964913</td>\n",
       "    </tr>\n",
       "    <tr>\n",
       "      <th>P10</th>\n",
       "      <td>0.035660</td>\n",
       "      <td>0.037790</td>\n",
       "      <td>109.615244</td>\n",
       "      <td>9.038718</td>\n",
       "    </tr>\n",
       "    <tr>\n",
       "      <th>P01-P10</th>\n",
       "      <td>0.007554</td>\n",
       "      <td>0.013791</td>\n",
       "      <td>0.013791</td>\n",
       "      <td>0.013791</td>\n",
       "    </tr>\n",
       "    <tr>\n",
       "      <th>P01-P05</th>\n",
       "      <td>0.010804</td>\n",
       "      <td>0.017223</td>\n",
       "      <td>0.017223</td>\n",
       "      <td>0.017223</td>\n",
       "    </tr>\n",
       "  </tbody>\n",
       "</table>\n",
       "</div>"
      ],
      "text/plain": [
       "            value_wight(2,3)  equal_weight(2,3)   avg_price  avg_rating\n",
       "port_group                                                             \n",
       "P01                 0.043214           0.051581  112.651565    9.168934\n",
       "P02                 0.034760           0.035447  111.997405    8.925333\n",
       "P03                 0.033914           0.034690  112.871597    9.001298\n",
       "P04                 0.031559           0.033271  110.749504    9.013953\n",
       "P05                 0.032410           0.034358  110.714991    9.164012\n",
       "P06                 0.029711           0.031268  112.054731    8.805611\n",
       "P07                 0.031626           0.032561  111.439620    9.044353\n",
       "P08                 0.031465           0.033990  112.139001    9.013176\n",
       "P09                 0.033393           0.033745  113.889604    8.964913\n",
       "P10                 0.035660           0.037790  109.615244    9.038718\n",
       "P01-P10             0.007554           0.013791    0.013791    0.013791\n",
       "P01-P05             0.010804           0.017223    0.017223    0.017223"
      ]
     },
     "execution_count": 13,
     "metadata": {},
     "output_type": "execute_result"
    }
   ],
   "source": [
    "perf"
   ]
  },
  {
   "cell_type": "markdown",
   "metadata": {},
   "source": [
    "## Generating total momentum strategy statistics table"
   ]
  },
  {
   "cell_type": "code",
   "execution_count": 14,
   "metadata": {},
   "outputs": [],
   "source": [
    "def tm_performance_table(perf):\n",
    "    headerColor = '#2254b7'\n",
    "    rowEvenColor = '#92b5fc'\n",
    "    rowOddColor = 'white'\n",
    "    \n",
    "    column_name = list(perf.columns.values)\n",
    "    column_name.insert(0, 'Portfolios')\n",
    "    \n",
    "    trace0 = go.Table(\n",
    "      header = dict(\n",
    "        values = [['<b>' + i + '</b>'] for i in column_name],\n",
    "        line = dict(color = '#072768'),\n",
    "        fill = dict(color = headerColor),\n",
    "        align = ['left','center'],\n",
    "        font = dict(color = 'white', size = 12)\n",
    "      ),\n",
    "      cells = dict(\n",
    "        values = [\n",
    "          [list(perf.index.values)],\n",
    "          [[i[0] for i in perf[[0]].values]],\n",
    "          [[i[0] for i in perf[[1]].values]],\n",
    "          [[i[0] for i in perf[[2]].values]],\n",
    "          [[i[0] for i in perf[[3]].values]]],\n",
    "        line = dict(color = '#072768'),\n",
    "        fill = dict(color = [rowOddColor,rowEvenColor,rowOddColor, rowEvenColor,rowOddColor]),\n",
    "        align = ['left', 'center'],\n",
    "        font = dict(color = '#072768', size = 11)\n",
    "        ))\n",
    "    \n",
    "    data = [trace0]\n",
    "    \n",
    "    return(py.iplot(data, filename = \"Performance_table\"))\n"
   ]
  },
  {
   "cell_type": "code",
   "execution_count": 15,
   "metadata": {},
   "outputs": [
    {
     "data": {
      "text/html": [
       "<iframe id=\"igraph\" scrolling=\"no\" style=\"border:none;\" seamless=\"seamless\" src=\"https://plot.ly/~NackNapat/25.embed\" height=\"525px\" width=\"100%\"></iframe>"
      ],
      "text/plain": [
       "<plotly.tools.PlotlyDisplay object>"
      ]
     },
     "execution_count": 15,
     "metadata": {},
     "output_type": "execute_result"
    }
   ],
   "source": [
    "tm_performance_table(perf)"
   ]
  },
  {
   "cell_type": "markdown",
   "metadata": {},
   "source": [
    "## Total momemtum strategy visualization function"
   ]
  },
  {
   "cell_type": "code",
   "execution_count": 16,
   "metadata": {},
   "outputs": [],
   "source": [
    "import matplotlib.pyplot as plt\n",
    "from matplotlib import style\n",
    "import numpy as np"
   ]
  },
  {
   "cell_type": "code",
   "execution_count": 19,
   "metadata": {},
   "outputs": [],
   "source": [
    "def tm_performance_plot(perf):\n",
    "\n",
    "    style.use('seaborn')\n",
    "    \n",
    "    fig = plt.figure(figsize=(15, 10))\n",
    "    fig.suptitle('Total momentum Spillover Performance', fontsize=20, fontweight='bold')\n",
    "    \n",
    "    ax1 = plt.subplot2grid((20, 22), (0, 0), rowspan=10, colspan=13)\n",
    "    ax1.plot(perf[[0]].iloc[0:10], label=\"{0}\".format(perf.columns[0]))\n",
    "    ax1.annotate(\"{0:0.4f}\".format(perf[[0]].values[0][0]), xy=(0, perf[[0]].values[0]), xytext=(8, 6), xycoords=('axes fraction', 'data'), textcoords='offset points')\n",
    "    ax1.annotate(\"{0:0.4f}\".format(perf[[0]].values[-3][0]), xy=(1, perf[[0]].values[-3]), xytext=(8, 6), xycoords=('axes fraction', 'data'), textcoords='offset points')\n",
    "    \n",
    "    ax1.plot(perf[[1]].iloc[0:10], label=\"{0}\".format(perf.columns[1]))\n",
    "    ax1.annotate(\"{0:0.4f}\".format(perf[[1]].values[0][0]), xy=(0, perf[[1]].values[0]), xytext=(8, 6), xycoords=('axes fraction', 'data'), textcoords='offset points')\n",
    "    ax1.annotate(\"{0:0.4f}\".format(perf[[1]].values[-3][0]), xy=(1, perf[[1]].values[-3]), xytext=(8, 6), xycoords=('axes fraction', 'data'), textcoords='offset points')\n",
    "    ax1.set_title('Momemtum Spillover Curves from Winner to Loser Portfolios', fontsize=15, weight='bold')\n",
    "    ax1.legend()\n",
    "    \n",
    "    ax2 = plt.subplot2grid((20, 22), (0, 15), rowspan=10, colspan=6)\n",
    "    \n",
    "    index = np.arange(2)\n",
    "    bar_width = 0.35\n",
    "    opacity = 0.8\n",
    "    \n",
    "    rect1 = ax2.bar(index - bar_width/2, [i[0] for i in perf[[0]].values[10:12]], bar_width, color='SkyBlue', label=\"{0}\".format(perf.columns[0]))\n",
    "    for rect in rect1:\n",
    "        height1 = rect.get_height()\n",
    "        ax2.text(rect.get_x() + rect.get_width()/2., 1.05*height1,\n",
    "                    \"{0:0.4f}\".format(height1),\n",
    "                    ha='center', va='bottom')\n",
    "    \n",
    "    rect2 = ax2.bar(index + bar_width/2, [i[0] for i in perf[[1]].values[10:12]], bar_width, color='IndianRed', alpha=opacity, label=\"{0}\".format(perf.columns[1]))\n",
    "    for rect in rect2:\n",
    "        height2 = rect.get_height()\n",
    "        ax2.text(rect.get_x() + rect.get_width()/2., 1.01*height2,\n",
    "                    \"{0:0.4f}\".format(height2),\n",
    "                    ha='center', va='bottom')\n",
    "    \n",
    "    ax2.set_xticks(index)\n",
    "    ax2.set_xticklabels((perf.index[-2], perf.index[-1]))\n",
    "    ax2.set_title('Long-short Performance', fontsize=15, weight='bold')\n",
    "    ax2.legend()\n",
    "    \n",
    "    ax3 = plt.subplot2grid((20, 22), (12, 0), rowspan=6, colspan=10)\n",
    "    ax3.plot(perf[[2]].iloc[0:10], label=\"Avergae market price\")\n",
    "    ax3.set_title('Average Bond Price from Winner to Loser Portfolios', fontsize=15, weight='bold')\n",
    "    ax3.legend()\n",
    "    \n",
    "    ax4 = plt.subplot2grid((20, 22), (12, 11), rowspan=6, colspan=10)\n",
    "    ax4.plot(perf[[3]].iloc[0:10], label=\"Avergae credit rating\")\n",
    "    ax4.set_title('Average Credit Rating from Winner to Loser Portfolios', fontsize=15, weight='bold')\n",
    "    ax4.legend()\n",
    "    \n",
    "    plt.plot()"
   ]
  },
  {
   "cell_type": "code",
   "execution_count": 20,
   "metadata": {},
   "outputs": [
    {
     "data": {
      "image/png": "[encoded data removed]",
      "text/plain": [
       "<matplotlib.figure.Figure at 0x1e4b5acafd0>"
      ]
     },
     "metadata": {},
     "output_type": "display_data"
    }
   ],
   "source": [
    "tm_performance_plot(perf)"
   ]
  },
  {
   "cell_type": "code",
   "execution_count": null,
   "metadata": {},
   "outputs": [],
   "source": []
  }
 ],
 "metadata": {
  "kernelspec": {
   "display_name": "Python 3",
   "language": "python",
   "name": "python3"
  },
  "language_info": {
   "codemirror_mode": {
    "name": "ipython",
    "version": 3
   },
   "file_extension": ".py",
   "mimetype": "text/x-python",
   "name": "python",
   "nbconvert_exporter": "python",
   "pygments_lexer": "ipython3",
   "version": "3.6.4"
  }
 },
 "nbformat": 4,
 "nbformat_minor": 2
}
